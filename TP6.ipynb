{
 "cells": [
  {
   "cell_type": "markdown",
   "metadata": {
    "id": "D7O8pKiLEmkc"
   },
   "source": [
    "## **TP6 : Cryptographie symétrique**\n",
    "\n",
    "\n",
    "# 1.   Mise en bouche\n",
    "\n",
    "Créer une classe `Cesar` contenant en attribut la clé : le constructeur initialise la clé avec son argument, et avec une valeur aléatoire si aucun argument ni fournis. Implémenter deux méthodes permettant de chiffrer et déchiffrer un message. **Important : dans ce TP, on considère des messages sur 27 caractères (A-Z + espace), où les espaces ne sont pas modifiés lors du chiffrement. Pourquoi n'est-ce pas (trop) restrictif ?**\n",
    "\n",
    "Écrire ensuite trois fonctions permettant de déterminer la clé utilisée par un chiffrement de César. Chacune de ces fonction pourra utiliser les différents niveaux d’attaque suivants :\n",
    "*   Texte chiffré choisi : elle prend en argument un objet `Cesar` et peut utiliser la méthode de déchiffrement.\n",
    "*   Texte clair choisi : elle prend en argument un objet `Cesar` et peut seulement utiliser la méthode de chiffrement.\n",
    "*   Texte clair connu : elle prend en argument deux chaînes (correspondant au message en clair et chiffré).\n",
    "\n",
    "Avant de s’attaquer au dernier niveau (texte chiffré seul), il faut développer quelques outils."
   ]
  },
  {
   "cell_type": "code",
   "execution_count": null,
   "metadata": {
    "id": "aaxAeDJrl6Y9"
   },
   "outputs": [],
   "source": [
    "from random import randint\n",
    "\n",
    "class Cesar :\n",
    "  def __init__(self, key=None) :\n",
    "    pass\n",
    "    #compléter le corps du constructeur\n",
    "    #self.key = \n",
    "  \n",
    "  def encode(self, plain):\n",
    "    cipher = \"\"\n",
    "\n",
    "    #Cette fonction utilise la clé pour\n",
    "    #faire un chifferement de Cesar par décalage\n",
    "    #\n",
    "    #Le chifferement de `plain` est retourné dans `cipher`\n",
    "\n",
    "    return cipher\n",
    "\n",
    "  def decode(self, cipher):\n",
    "    plain = \"\"\n",
    "\n",
    "    #Cette fonction utilise la clé pour\n",
    "    #faire un déchifferement de Cesar par décalage\n",
    "    #\n",
    "    #Le déchifferement de `cipher` est retourné dans `plain`\n",
    "\n",
    "    return plain\n",
    "\n",
    "def bruteforce_decrypt(cesar, cipher):\n",
    "    assert isinstance(cesar, Cesar)\n",
    "\n",
    "    print(\"Les possibilités de déchiffrement de {} sont :\".format(cipher))\n",
    "    \n",
    "    #La suite de la fontion doit imprimer toutes les possibilités de déchiffrement ligne par ligne\n",
    "\n",
    "def chosen_cipher(cesar):\n",
    "    assert isinstance(cesar, Cesar)\n",
    "    #déduire la clé en utilisant cesar.decode()\n",
    "    #key = \n",
    "    #\n",
    "\n",
    "    print(\"la clé de chiffrement est : {}\".format(key))\n",
    "    return key\n",
    "\n",
    "def chosen_plain(cesar):\n",
    "    assert isinstance(cesar, Cesar)\n",
    "    #déduire la clé en utilisant cesar.code() mais sans utiliser cesar.decode()\n",
    "    #keyabs = \n",
    "    #\n",
    "\n",
    "    print(\"la clé de chiffrement est : {}\".format(key))\n",
    "    return key\n",
    "\n",
    "def known_plain(plain, cipher):\n",
    "    #cipher est le message obtenu en chiffrant plain\n",
    "    #déduire la clé à partir de plain et cipher\n",
    "    #keyabs = \n",
    "    #\n",
    "\n",
    "    print(\"la clé de chiffrement est : {}\".format(key))\n",
    "    return key\n",
    "\n",
    "key = int(input(\"Veuillez saisir une clé de chiffrement ('-1' pour une clé aléatoire) :\"))\n",
    "cesar = Cesar() if key<0 else Cesar(key)\n",
    "\n",
    "plain = input(\"Veuillez saisir un texte à chiffrer par la clé {}:\".format(cesar.key))\n",
    "\n",
    "print(\"Le chiffrement de {} par la clé {} est : {}\".format(plain, cesar.key, cesar.encrypt(plain)))\n",
    "\n",
    "cipher = input(\"Veuillez saisir un texte à déchiffrer par la clé {}:\".format(cesar.key))\n",
    "\n",
    "print(\"Le déchiffrement de {} par la clé {} est : {}\".format(cipher, cesar.key, cesar.decrypt(cipher)))\n",
    "\n",
    "# Ajoutez vos tests"
   ]
  },
  {
   "cell_type": "markdown",
   "metadata": {
    "id": "NhUEGqeMRlOR"
   },
   "source": [
    "# 2.   Boîte à outils\n",
    "Implémenter des fonctions permettant de :\n",
    "*   Calculer les fréquences de chaque lettre dans un message.\n",
    "*   Calculer la distance (somme des valeurs absolues des différences) entre un tableau de fréquences et celui du français (en %)\n",
    "\n",
    "|lettre|fréquence|\n",
    "|:-:|:-:|\n",
    "|A|8.15|\n",
    "|B|0.97|\n",
    "|C|3.15|\n",
    "|D|3.73|\n",
    "|E|17.39|\n",
    "|F|1.12|\n",
    "|G|0.97|\n",
    "|H|0.85|\n",
    "|I|7.31|\n",
    "|J|0.45|\n",
    "|K|0.02|\n",
    "|L|5.69|\n",
    "|M|2.87|\n",
    "|N|7.12|\n",
    "|O|5.28|\n",
    "|P|2.80|\n",
    "|Q|1.21|\n",
    "|R|6.64|\n",
    "|S|8.14|\n",
    "|T|7.22|\n",
    "|U|6.38|\n",
    "|V|1.64|\n",
    "|W|0.03|\n",
    "|X|0.41|\n",
    "|Y|0.28|\n",
    "|Z|0.15|\n",
    "\n",
    "*   calculer l’indice de coïncidence \n",
    "\n"
   ]
  },
  {
   "cell_type": "code",
   "execution_count": null,
   "metadata": {
    "id": "4utDBhBRDUfF"
   },
   "outputs": [],
   "source": [
    "fr_frequencies = {'A' : 8.15,\\\n",
    "                  'B' : 0.97,\\\n",
    "                  'C' : 3.15,\\\n",
    "                  'D' : 3.73,\\\n",
    "                  'E' : 17.39,\\\n",
    "                  'F' : 1.12,\\\n",
    "                  'G' : 0.97,\\\n",
    "                  'H' : 0.85,\\\n",
    "                  'I' : 7.31,\\\n",
    "                  'J' : 0.45,\\\n",
    "                  'K' : 0.02,\\\n",
    "                  'L' : 5.69,\\\n",
    "                  'M' : 2.87,\\\n",
    "                  'N' : 7.12,\\\n",
    "                  'O' : 5.28,\\\n",
    "                  'P' : 2.80,\\\n",
    "                  'Q' : 1.21,\\\n",
    "                  'R' : 6.64,\\\n",
    "                  'S' : 8.14,\\\n",
    "                  'T' : 7.22,\\\n",
    "                  'U' : 6.38,\\\n",
    "                  'V' : 1.64,\\\n",
    "                  'W' : 0.03,\\\n",
    "                  'X' : 0.41,\\\n",
    "                  'Y' : 0.28,\\\n",
    "                  'Z' : 0.15}\n",
    "\n",
    "def frequencies(message):\n",
    "    f = {}\n",
    "    \n",
    "    #Cette fonction génère un dictionnaire qui donne la fréquence d'apparition de\n",
    "    #lettre dans `message`, et retourne également la longueur effective du \n",
    "    #message, c-à-d le nombre de caractères alphabétiques \n",
    "\n",
    "    return f, len_message\n",
    "\n",
    "def abs_distance(calculated_frequencies, target_frequencies, shift=0):\n",
    "    # Cette fonction calcule la distance (somme des valeurs absolues des différences) \n",
    "    #entre un tableau de fréquences donné d'une chaîne et celui du français\n",
    "    #Optionnel : Un décalage peut être introduit pour calculer la distance entre un chiffrement de Cesar \n",
    "    #par décalage d'un tableau de fréquences donné d'une chaine et celui du français  \n",
    "\n",
    "def coincidence_index(calculated_occurrences, len_message):\n",
    "    #retourne l'indice de coïncidence\n",
    "\n",
    "msg_fq_test = input(\"Veuillez saisir un texte pour tester la class Decrypt\")\n",
    "fq, len_msg = frequencies(msg_fq_test)\n",
    "print(\"Les fréquences sont : \\n {}\".format(fq))\n",
    "\n",
    "print(\"La distance par rapport au tableau de fréquences du français est : {}\".format(abs_distance(fq, fr_frequencies)))\n",
    "\n",
    "print(\" l’indice de coïncidence est : {}\".format(coincidence_index(fq * (len_msg/100), len_msg)))"
   ]
  },
  {
   "cell_type": "markdown",
   "metadata": {
    "id": "0Xq0OQa8VrqO"
   },
   "source": [
    "Utiliser ces fonctions pour déterminer la clé la plus probable dans une attaque de type texte chiffré seul. \n",
    "\n",
    "Pouvez-vous décoder le message suivant ?\n",
    "\n",
    "*VK MSQKVO KIKXD MRKXDO DYED VODO CO DBYEFK PYBD NOZYEBFEO AEKXN VK LSCO PED FOXEO*"
   ]
  },
  {
   "cell_type": "code",
   "execution_count": null,
   "metadata": {
    "id": "vP3VukUPfza5"
   },
   "outputs": [],
   "source": [
    "def cipher_only(cipher):\n",
    "    #Utilisez les fonctions que vous avez implémenté\n",
    "    #pour calculer la clé la plus probable, donner le texte déchiffé, ainsi que l'indice de coïncidence\n",
    "\n",
    "    return plain, key, coincidence\n",
    "\n",
    "cipher = \"VK MSQKVO KIKXD MRKXDO DYED VODO CO DBYEFK PYBD NOZYEBFEO AEKXN VK LSCO PED FOXEO\"\n",
    "plain, key, coincidence = cipher_only(cipher)\n",
    "print(\"L'indice de coïncidence de votre séquence est : {} \\n La clé la plus probable est {} \\n Le message déchiffré est \\n {}\".format(coincidence, key, plain))\n"
   ]
  },
  {
   "cell_type": "markdown",
   "metadata": {
    "id": "Zgc0XpnTKe_m"
   },
   "source": [
    "# 3.   Substitution\n",
    "Adapter la classe `Cesar` pour chiffrer et déchiffrer par substitution. Implémenter des méthodes d'attaque dans les cadres de texte chiffré choisi, texte clair choisi et texte clair connu. Essayez de décrypter quelques messages (assez longs). "
   ]
  },
  {
   "cell_type": "code",
   "execution_count": null,
   "metadata": {
    "id": "4W6ZNSbSKfnv"
   },
   "outputs": [],
   "source": [
    "from random import shuffle\n",
    "\n",
    "class Subs :\n",
    "  def __init__(self, key=None) :\n",
    "    pass\n",
    "    #Le contructeur initialise la clé (les substitutions) par le dictionnaire \n",
    "    #donné en argument `key`, sinon il génère une clé aléatoirement \n",
    "    #\n",
    "    #Le dictionnaire donné peut ne pas inclure 26 entrées, celles non-montionnées restent inchangées.\n",
    "    #exemple de key : {'A':S, 'T':O, 'Z':B ...}. S'il n'y pas la clé 'P' par exemple dans le dictionnaire,\n",
    "    #la clé de l'objet cesar doit contenir l'entrée 'P':P.\n",
    "    #\n",
    "    #Vous pouvez construire la clé inverse pour faciliter le déchifferement.\n",
    "    #\n",
    "    #self.key = {}\n",
    "    #self.key_inv = {}\n",
    "    \n",
    "        \n",
    "  def encode(self, plain):\n",
    "    cipher = \"\"\n",
    "\n",
    "    #Cette fonction utilise la clé pour\n",
    "    #faire un chifferement par substitutions\n",
    "    #\n",
    "    #Le chiffrement de `plain` est retourné dans `cipher`\n",
    "\n",
    "    return cipher\n",
    "\n",
    "  def decode(self, cipher):\n",
    "    plain = \"\"\n",
    "\n",
    "    #Cette fonction utilise la clé pour\n",
    "    #faire un déchiffrement par substitutions\n",
    "    #\n",
    "    #Le déchiffrement de `cipher` est retourné dans `plain`\n",
    "\n",
    "    return plain\n",
    "\n",
    "def chosen_cipher(subs):\n",
    "    assert isinstance(subs, Subs)\n",
    "    #déduire la clé en utilisant subs.decode()\n",
    "    #key = \n",
    "    #\n",
    "\n",
    "    print(\"la clé de chiffrement est : {}\".format(key))\n",
    "    return key\n",
    "\n",
    "def chosen_plain(subs):\n",
    "    assert isinstance(subs, Subs)\n",
    "    #déduire la clé en utilisant subs.code() mais sans utiliser subs.decode()\n",
    "    #keyabs = \n",
    "    #\n",
    "\n",
    "    print(\"la clé de chiffrement est : {}\".format(key))\n",
    "    return key\n",
    "\n",
    "def known_plain(plain, cipher):\n",
    "    #cipher est le message obtenu en chiffrant plain\n",
    "    #déduire une clé possible à partir de plain et cipher\n",
    "    #keyabs = \n",
    "    #\n",
    "\n",
    "    print(\"la clé de chiffrement est : {}\".format(key))\n",
    "    return key\n",
    "\n",
    "\n",
    "subs = Subs({'A': 'R', 'B': 'Y', 'C': 'B', 'D': 'Z', 'E': 'W', 'F': 'S', 'G': 'U', 'H': 'D', 'I': 'F', 'J': 'I', 'K': 'H', 'L': 'T', 'M': 'N', 'N': 'L', 'O': 'A', 'P': 'E', 'Q': 'K', 'R': 'G', 'S': 'C', 'T': 'P', 'U': 'Q', 'V': 'X', 'W': 'O', 'X': 'V', 'Y': 'M', 'Z': 'J'})\n",
    "print(subs.key)\n",
    "print(subs.key_inv)\n",
    "print(subs.encrypt(\"LA CIGALE AYANT CHANTE TOUT LETE SE TROUVA FORT DEPOURVUE QUAND LA BISE FUT VENUE\"))\n",
    "print(subs.decrypt(\"TR BFURTW RMRLP BDRLPW PAQP TWPW CW PGAQXR SAGP ZWEAQGXQW KQRLZ TR YFCW SQP XWLQW\"))\n",
    "\n",
    "\n",
    "\n"
   ]
  },
  {
   "cell_type": "markdown",
   "metadata": {},
   "source": [
    "Implémenter une attaque à texte chiffré seul par analyse de fréquences. Cette fonction sera raffinée en section 5."
   ]
  },
  {
   "cell_type": "code",
   "execution_count": null,
   "metadata": {},
   "outputs": [],
   "source": [
    "def cipher_only(cipher):\n",
    "    #L'attaque purement fréquentielle du codage par substitution  \n",
    "    #se base sur le tri des fréquences d'un texte chiffré, ce tri est superposé sur\n",
    "    #le tri des fréquences d'un language naturel donné pour construire une clé de substitution\n",
    "    return plain, key, coincidence\n",
    "\n",
    "plain, key, coincidence = cipher_only(cipher)\n",
    "print(plain)\n",
    "print(key)\n",
    "print(coincidence) "
   ]
  },
  {
   "cell_type": "markdown",
   "metadata": {
    "id": "5N-gkK8RKf5c"
   },
   "source": [
    "Que constatez-vous ?\n",
    "\n",
    "Réponse : "
   ]
  },
  {
   "cell_type": "markdown",
   "metadata": {},
   "source": [
    "# 4.   Vigenère\n",
    "\n",
    "Adapter la classe `Cesar` pour chiffrer et déchiffrer un code de Vigenère.  Implémenter des méthodes d'attaque dans les cadres de texte chiffré choisi, texte clair choisi et texte clair connu. "
   ]
  },
  {
   "cell_type": "code",
   "execution_count": null,
   "metadata": {},
   "outputs": [],
   "source": [
    "from random import randint\n",
    "\n",
    "class Vigenere :\n",
    "  def __init__(self, key=None) :\n",
    "    pass\n",
    "    #compléter le corps du constructeur\n",
    "    #self.key = \n",
    "  \n",
    "  def encode(self, plain):\n",
    "    cipher = \"\"\n",
    "\n",
    "    #Cette fonction utilise la clé pour\n",
    "    #faire un chifferement de Vigenère\n",
    "    #\n",
    "    #Le chifferement de `plain` est retourné dans `cipher`\n",
    "\n",
    "    return cipher\n",
    "\n",
    "  def decode(self, cipher):\n",
    "    plain = \"\"\n",
    "\n",
    "    #Cette fonction utilise la clé pour\n",
    "    #faire un déchiffrement de Vigenère\n",
    "    #\n",
    "    #Le déchiffrement de `cipher` est retourné dans `plain`\n",
    "\n",
    "    return plain\n",
    "\n",
    "class DecryptVigenere :\n",
    "  def chosen_cipher(self, vigenere):\n",
    "    assert isinstance(vigenere, Vigenere)\n",
    "    #déduire la clé en utilisant vigenere.decode()\n",
    "    #key = \n",
    "    #\n",
    "\n",
    "    print(\"la clé de chiffrement est : {}\".format(key))\n",
    "    return key\n",
    "\n",
    "  def chosen_plain(self, vigenere):\n",
    "    assert isinstance(vigenere, Vigenere)\n",
    "    #déduire la clé en utilisant vigenere.code() mais sans utiliser vigenere.decode()\n",
    "    #keyabs = \n",
    "    #\n",
    "\n",
    "    print(\"la clé de chiffrement est : {}\".format(key))\n",
    "    return key\n",
    "\n",
    "  def known_plain(self, plain, cipher):\n",
    "    #cipher est le message obtenu en chiffrant plain\n",
    "    #déduire la clé à partir de plain et cipher\n",
    "    #keyabs = \n",
    "    #\n",
    "\n",
    "    print(\"la clé de chiffrement est : {}\".format(key))\n",
    "    return key\n"
   ]
  },
  {
   "cell_type": "markdown",
   "metadata": {},
   "source": [
    "## Test de Friedman\n",
    "Si la longueur de la clé est `k`, alors pour tout `i`, le sous-message formé par les lettres aux positions\n",
    "`i mod k` est chiffré avec un chiffrement de César. En particulier, son indice de coïncidence doit\n",
    "être proche de 0.07 (et non de 0.03).\n",
    "\n",
    "En utilisant ce critère, écrire une fonction qui détermine la longueur (la plus probable) de la\n",
    "clé. Écrire ensuite une fonction qui calcule la clé (la plus probable)."
   ]
  },
  {
   "cell_type": "code",
   "execution_count": null,
   "metadata": {},
   "outputs": [],
   "source": [
    "def friedman_length(cipher):\n",
    "    length=0\n",
    "    return length\n",
    "\n",
    "def cipher_only(cipher,length_key):\n",
    "    plain=\"\"\n",
    "    key=\"\"\n",
    "    return key,plain"
   ]
  },
  {
   "cell_type": "markdown",
   "metadata": {},
   "source": [
    "## Test de Babbage-Kasiski\n",
    "\n",
    "Implémenter une fonction qui détermine la liste des (positions des) sous-mots d’au moins\n",
    "`p` lettres apparaîssant plusieurs fois dans un message."
   ]
  },
  {
   "cell_type": "code",
   "execution_count": null,
   "metadata": {},
   "outputs": [],
   "source": [
    "def repetitions(cipher,p):\n",
    "    \n",
    "    return []"
   ]
  },
  {
   "cell_type": "markdown",
   "metadata": {},
   "source": [
    "La plupart de ces répétitions correspondent (sauf faux-positif) à des sous-mots du message en\n",
    "clair qui ont été chiffrés avec les mêmes portions de la clé. Dans ce cas, l’écart entre leurs positions\n",
    "est un multiple de la longueur de la clé. En déduire une fonction qui fournit la longueur (probable) de la clé."
   ]
  },
  {
   "cell_type": "code",
   "execution_count": null,
   "metadata": {},
   "outputs": [],
   "source": [
    "def bk_length(cipher):\n",
    "    \n",
    "    return 0"
   ]
  },
  {
   "cell_type": "markdown",
   "metadata": {},
   "source": [
    "Construisez ensuite quelques exemples et testez les deux algorithmes."
   ]
  }
 ],
 "metadata": {
  "colab": {
   "collapsed_sections": [],
   "name": "IPC_TP1.ipynb",
   "provenance": []
  },
  "kernelspec": {
   "display_name": "Python 3",
   "language": "python",
   "name": "python3"
  },
  "language_info": {
   "codemirror_mode": {
    "name": "ipython",
    "version": 3
   },
   "file_extension": ".py",
   "mimetype": "text/x-python",
   "name": "python",
   "nbconvert_exporter": "python",
   "pygments_lexer": "ipython3",
   "version": "3.8.8"
  }
 },
 "nbformat": 4,
 "nbformat_minor": 1
}
